{
 "cells": [
  {
   "cell_type": "code",
   "execution_count": 1,
   "id": "df7f1361-70fa-44a6-939e-0d8cb245ad2d",
   "metadata": {},
   "outputs": [
    {
     "name": "stdout",
     "output_type": "stream",
     "text": [
      "Total words loaded: 370101\n",
      "Sample: ['a', 'aa', 'aaa', 'aah', 'aahed', 'aahing', 'aahs', 'aal', 'aalii', 'aaliis']\n"
     ]
    }
   ],
   "source": [
    "import json\n",
    "\n",
    "# Load words from JSON file\n",
    "with open(\"words.json\", \"r\") as f:\n",
    "    data = json.load(f)\n",
    "\n",
    "# Just the keys (the words)\n",
    "words = list(data.keys())\n",
    "\n",
    "print(f\"Total words loaded: {len(words)}\")\n",
    "print(\"Sample:\", words[:10])\n"
   ]
  },
  {
   "cell_type": "code",
   "execution_count": 2,
   "id": "58efcdfd-e884-46c4-a9eb-4e58690cf862",
   "metadata": {},
   "outputs": [
    {
     "name": "stdout",
     "output_type": "stream",
     "text": [
      "TF-IDF model trained.\n"
     ]
    }
   ],
   "source": [
    "from sklearn.feature_extraction.text import TfidfVectorizer\n",
    "\n",
    "# Character n-gram TF-IDF for autocomplete\n",
    "vectorizer = TfidfVectorizer(analyzer=\"char_wb\", ngram_range=(2, 4))\n",
    "word_vectors = vectorizer.fit_transform(words)\n",
    "\n",
    "print(\"TF-IDF model trained.\")\n"
   ]
  },
  {
   "cell_type": "code",
   "execution_count": 5,
   "id": "379049ee-a9d7-4789-9380-bed531085201",
   "metadata": {},
   "outputs": [],
   "source": [
    "from sklearn.metrics.pairwise import cosine_similarity\n",
    "import numpy as np\n",
    "\n",
    "def suggest(prefix: str, top_k: int = 5):\n",
    "    prefix_vector = vectorizer.transform([prefix])\n",
    "    similarities = cosine_similarity(prefix_vector, word_vectors).flatten()\n",
    "    \n",
    "    # Get all words that actually START with the prefix\n",
    "    candidates = [\n",
    "        (i, similarities[i]) \n",
    "        for i in range(len(words)) \n",
    "        if words[i].startswith(prefix)\n",
    "    ]\n",
    "    \n",
    "    # Sort by similarity (or you can sort alphabetically)\n",
    "    candidates.sort(key=lambda x: x[1], reverse=True)\n",
    "    \n",
    "    return [words[i] for i, sim in candidates[:top_k]]\n",
    "\n"
   ]
  },
  {
   "cell_type": "code",
   "execution_count": 6,
   "id": "8a3db829-32ff-408c-97c3-2b82af90ec61",
   "metadata": {},
   "outputs": [
    {
     "data": {
      "text/plain": [
       "['aute',\n",
       " 'auth',\n",
       " 'autojuggernaut',\n",
       " 'auto',\n",
       " 'autor',\n",
       " 'autoput',\n",
       " 'autist',\n",
       " 'autos',\n",
       " 'autere',\n",
       " 'autism']"
      ]
     },
     "execution_count": 6,
     "metadata": {},
     "output_type": "execute_result"
    }
   ],
   "source": [
    "suggest(\"aut\", 10)\n"
   ]
  },
  {
   "cell_type": "code",
   "execution_count": null,
   "id": "b6701c3c-b1c0-478a-9bae-442b6b6976eb",
   "metadata": {},
   "outputs": [],
   "source": []
  }
 ],
 "metadata": {
  "kernelspec": {
   "display_name": "Python 3 (ipykernel)",
   "language": "python",
   "name": "python3"
  },
  "language_info": {
   "codemirror_mode": {
    "name": "ipython",
    "version": 3
   },
   "file_extension": ".py",
   "mimetype": "text/x-python",
   "name": "python",
   "nbconvert_exporter": "python",
   "pygments_lexer": "ipython3",
   "version": "3.12.7"
  }
 },
 "nbformat": 4,
 "nbformat_minor": 5
}
